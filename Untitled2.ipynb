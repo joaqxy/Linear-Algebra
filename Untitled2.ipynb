{
  "nbformat": 4,
  "nbformat_minor": 0,
  "metadata": {
    "colab": {
      "name": "Untitled2.ipynb",
      "provenance": [],
      "authorship_tag": "ABX9TyO74Se/S/aRpWr7EQEISVPh",
      "include_colab_link": true
    },
    "kernelspec": {
      "name": "python3",
      "display_name": "Python 3"
    },
    "language_info": {
      "name": "python"
    }
  },
  "cells": [
    {
      "cell_type": "markdown",
      "metadata": {
        "id": "view-in-github",
        "colab_type": "text"
      },
      "source": [
        "<a href=\"https://colab.research.google.com/github/joaqxy/Linear-Algebra/blob/main/Untitled2.ipynb\" target=\"_parent\"><img src=\"https://colab.research.google.com/assets/colab-badge.svg\" alt=\"Open In Colab\"/></a>"
      ]
    },
    {
      "cell_type": "code",
      "metadata": {
        "id": "bcHxBmeTYToD"
      },
      "source": [
        "import numpy as np\n",
        "import matplotlib.pyplot as plt\n",
        "%matplotlib inline"
      ],
      "execution_count": 4,
      "outputs": []
    },
    {
      "cell_type": "code",
      "metadata": {
        "colab": {
          "base_uri": "https://localhost:8080/"
        },
        "id": "ONvHsn-vYcoF",
        "outputId": "7975e78e-1139-424c-9537-cc0ae94d7993"
      },
      "source": [
        "P = np.array([\n",
        "              [6,9,0],\n",
        "              [4,2,-1],\n",
        "              [3,6,7]\n",
        "        \n",
        "])\n",
        "Q = np.linalg.inv(P)\n",
        "Q"
      ],
      "execution_count": null,
      "outputs": [
        {
          "output_type": "execute_result",
          "data": {
            "text/plain": [
              "array([[-0.12578616,  0.39622642,  0.05660377],\n",
              "       [ 0.19496855, -0.26415094, -0.03773585],\n",
              "       [-0.11320755,  0.05660377,  0.1509434 ]])"
            ]
          },
          "metadata": {},
          "execution_count": 2
        }
      ]
    },
    {
      "cell_type": "code",
      "metadata": {
        "colab": {
          "base_uri": "https://localhost:8080/"
        },
        "id": "_6lz6LmjYzkd",
        "outputId": "1e005007-ab9f-45fb-8030-39580d4a89be"
      },
      "source": [
        "A = np.array([\n",
        "              [2,3,1],\n",
        "              [7,4,1],\n",
        "              [9,-2,1]\n",
        "])\n",
        "B = np.array([\n",
        "              [9,-2,-1],\n",
        "              [5,7,3],\n",
        "              [8,1,0]\n",
        "])\n",
        "\n",
        "AB = A @ B\n",
        "AB"
      ],
      "execution_count": null,
      "outputs": [
        {
          "output_type": "execute_result",
          "data": {
            "text/plain": [
              "array([[ 41,  18,   7],\n",
              "       [ 91,  15,   5],\n",
              "       [ 79, -31, -15]])"
            ]
          },
          "metadata": {},
          "execution_count": 13
        }
      ]
    },
    {
      "cell_type": "code",
      "metadata": {
        "colab": {
          "base_uri": "https://localhost:8080/"
        },
        "id": "HzgMKQvGZVH6",
        "outputId": "f8244b42-fba7-4894-a90c-08c7033ea93b"
      },
      "source": [
        "B = np.array([\n",
        "              [5,-7,2,2],\n",
        "              [0,3,0,-4],\n",
        "              [-5,-8,0,3],\n",
        "              [0,5,0,-6]\n",
        "])\n",
        "np.linalg.det(B)"
      ],
      "execution_count": null,
      "outputs": [
        {
          "output_type": "execute_result",
          "data": {
            "text/plain": [
              "19.99999999999996"
            ]
          },
          "metadata": {},
          "execution_count": 16
        }
      ]
    },
    {
      "cell_type": "code",
      "metadata": {
        "colab": {
          "base_uri": "https://localhost:8080/"
        },
        "id": "CcMudvFMZuQZ",
        "outputId": "0be5189b-6449-4411-d394-d3b4779805f8"
      },
      "source": [
        "D = np.array([\n",
        "              [3,2,2],\n",
        "              [3,1,3],\n",
        "              [5,3,2]\n",
        "])\n",
        "E = np.array([\n",
        "              [-2,0,5],\n",
        "              [2,4,6],\n",
        "              [7,4,3]\n",
        "])\n",
        "\n",
        "A = D.dot(E)\n",
        "A"
      ],
      "execution_count": 7,
      "outputs": [
        {
          "output_type": "execute_result",
          "data": {
            "text/plain": [
              "array([[12, 16, 33],\n",
              "       [17, 16, 30],\n",
              "       [10, 20, 49]])"
            ]
          },
          "metadata": {},
          "execution_count": 7
        }
      ]
    },
    {
      "cell_type": "code",
      "metadata": {
        "colab": {
          "base_uri": "https://localhost:8080/"
        },
        "id": "1iBAkIDgab-Y",
        "outputId": "64d2f572-3f9a-40e8-e271-5f1b595f8792"
      },
      "source": [
        "A = np.array([4,-2,6])\n",
        "B = np.array([12,18,-8])\n",
        "\n",
        "C = A - (3 * B)\n",
        "C"
      ],
      "execution_count": null,
      "outputs": [
        {
          "output_type": "execute_result",
          "data": {
            "text/plain": [
              "array([-32, -56,  30])"
            ]
          },
          "metadata": {},
          "execution_count": 12
        }
      ]
    },
    {
      "cell_type": "code",
      "metadata": {
        "colab": {
          "base_uri": "https://localhost:8080/"
        },
        "id": "IHbSmqMadVEW",
        "outputId": "6588fae8-277d-4252-c7b4-909534dc1bac"
      },
      "source": [
        "H = np.array([1,0,2,5,-0.2,0])\n",
        "H.shape"
      ],
      "execution_count": null,
      "outputs": [
        {
          "output_type": "execute_result",
          "data": {
            "text/plain": [
              "(6,)"
            ]
          },
          "metadata": {},
          "execution_count": 17
        }
      ]
    },
    {
      "cell_type": "code",
      "metadata": {
        "colab": {
          "base_uri": "https://localhost:8080/"
        },
        "id": "n7e99CRPdnYR",
        "outputId": "d1a9b0a5-5eea-4618-f2ca-11ac4cbdaaf4"
      },
      "source": [
        "A = np.array([\n",
        "              [0,4,9],\n",
        "              [8,3,7]\n",
        "])\n",
        "B = np.array([\n",
        "              [7,3,8],\n",
        "              [1,4,9]\n",
        "])\n",
        "C = B - (5*A)\n",
        "C"
      ],
      "execution_count": null,
      "outputs": [
        {
          "output_type": "execute_result",
          "data": {
            "text/plain": [
              "array([[  7, -17, -37],\n",
              "       [-39, -11, -26]])"
            ]
          },
          "metadata": {},
          "execution_count": 19
        }
      ]
    },
    {
      "cell_type": "code",
      "metadata": {
        "colab": {
          "base_uri": "https://localhost:8080/"
        },
        "id": "5iGibJ6OhJ9z",
        "outputId": "933e32b3-8960-489c-c0d9-82e16282d54f"
      },
      "source": [
        "1.461324246947159"
      ],
      "execution_count": 8,
      "outputs": [
        {
          "output_type": "execute_result",
          "data": {
            "text/plain": [
              "1.461324246947159"
            ]
          },
          "metadata": {},
          "execution_count": 8
        }
      ]
    },
    {
      "cell_type": "code",
      "metadata": {
        "colab": {
          "base_uri": "https://localhost:8080/"
        },
        "id": "NXz38GI9jktf",
        "outputId": "49dce098-b669-4df9-ec48-249ef65de52c"
      },
      "source": [
        "A = np.array([10,-4,6])\n",
        "B = np.array([2,1,0])\n",
        "\n",
        "C = A + (2 * B)\n",
        "C"
      ],
      "execution_count": null,
      "outputs": [
        {
          "output_type": "execute_result",
          "data": {
            "text/plain": [
              "array([14, -2,  6])"
            ]
          },
          "metadata": {},
          "execution_count": 22
        }
      ]
    },
    {
      "cell_type": "code",
      "source": [
        "x, y, z = 2, 4.0, '3'\n",
        "type(z)"
      ],
      "metadata": {
        "colab": {
          "base_uri": "https://localhost:8080/"
        },
        "id": "pVKJnR-suLcJ",
        "outputId": "99f52c9b-9fda-4063-a3ea-f494482beaff"
      },
      "execution_count": 1,
      "outputs": [
        {
          "output_type": "execute_result",
          "data": {
            "text/plain": [
              "str"
            ]
          },
          "metadata": {},
          "execution_count": 1
        }
      ]
    },
    {
      "cell_type": "code",
      "source": [
        "A = np.array([\n",
        "              [1,2],\n",
        "              [-2,1]             \n",
        "])\n",
        "B = np.array([\n",
        "              [3,5],\n",
        "              [-1,4]\n",
        "              \n",
        "])\n",
        "\n",
        "AB = A @ B\n",
        "AB"
      ],
      "metadata": {
        "colab": {
          "base_uri": "https://localhost:8080/"
        },
        "id": "ePOCeDi6wco9",
        "outputId": "1dc97c94-ef6c-48d8-f6f6-0e053b4fb959"
      },
      "execution_count": 11,
      "outputs": [
        {
          "output_type": "execute_result",
          "data": {
            "text/plain": [
              "array([[ 1, 13],\n",
              "       [-7, -6]])"
            ]
          },
          "metadata": {},
          "execution_count": 11
        }
      ]
    },
    {
      "cell_type": "code",
      "source": [
        "A = np.array([\n",
        "              [10,-4,6]                        \n",
        "])\n",
        "B = np.array([\n",
        "              [1,0,3]             \n",
        "])\n",
        "C = np.array([\n",
        "              [4,-6,10]\n",
        "])\n",
        "D = np.cross(B,C)\n",
        "D"
      ],
      "metadata": {
        "colab": {
          "base_uri": "https://localhost:8080/"
        },
        "id": "_sEeX-8txpOo",
        "outputId": "2ea7aaa1-bb1d-4e35-ce8d-e0ae3725c062"
      },
      "execution_count": 20,
      "outputs": [
        {
          "output_type": "execute_result",
          "data": {
            "text/plain": [
              "array([[18,  2, -6]])"
            ]
          },
          "metadata": {},
          "execution_count": 20
        }
      ]
    },
    {
      "cell_type": "code",
      "source": [
        "x = np.array([\n",
        "              [5,0,4],\n",
        "              [4,-1,5],\n",
        "              [3,-1,-6]\n",
        "])\n",
        "Y = np.triu(x)\n",
        "Y"
      ],
      "metadata": {
        "colab": {
          "base_uri": "https://localhost:8080/"
        },
        "id": "s0gmxu_3yckE",
        "outputId": "d157fe32-6def-4319-80f9-eec1c9ea0a77"
      },
      "execution_count": 15,
      "outputs": [
        {
          "output_type": "execute_result",
          "data": {
            "text/plain": [
              "array([[ 5,  0,  4],\n",
              "       [ 0, -1,  5],\n",
              "       [ 0,  0, -6]])"
            ]
          },
          "metadata": {},
          "execution_count": 15
        }
      ]
    }
  ]
}