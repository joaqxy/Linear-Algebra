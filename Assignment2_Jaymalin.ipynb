{
  "nbformat": 4,
  "nbformat_minor": 0,
  "metadata": {
    "colab": {
      "name": "Assignment2_Jaymalin.ipynb",
      "provenance": [],
      "authorship_tag": "ABX9TyMclRNfXbLW1aWuitpk4/3c",
      "include_colab_link": true
    },
    "kernelspec": {
      "name": "python3",
      "display_name": "Python 3"
    },
    "language_info": {
      "name": "python"
    }
  },
  "cells": [
    {
      "cell_type": "markdown",
      "metadata": {
        "id": "view-in-github",
        "colab_type": "text"
      },
      "source": [
        "<a href=\"https://colab.research.google.com/github/joaqxy/Linear-Algebra/blob/main/Assignment2_Jaymalin.ipynb\" target=\"_parent\"><img src=\"https://colab.research.google.com/assets/colab-badge.svg\" alt=\"Open In Colab\"/></a>"
      ]
    },
    {
      "cell_type": "markdown",
      "metadata": {
        "id": "DQUxs7zR1prj"
      },
      "source": [
        "#welcome to Python Fundamentals\n",
        "In this module, we are going to establish our skills in Python programming. In this notebook we are going to cover:\n",
        "\n",
        "\n",
        "*   Variables and Data types \n",
        "*   operations \n",
        "*   Input and Output operations\n",
        "*   Logic Control\n",
        "*   Iterables\n",
        "*   Functions\n",
        "\n",
        "\n",
        "\n",
        "\n",
        "\n",
        "\n"
      ]
    },
    {
      "cell_type": "markdown",
      "metadata": {
        "id": "43DDU47L2n_1"
      },
      "source": [
        "## Variables and Data Types"
      ]
    },
    {
      "cell_type": "markdown",
      "metadata": {
        "id": "lDx-eunH-yq3"
      },
      "source": [
        "In this section, we can see how to delcare variables and what are the different types of variables. Variables that are declared can be used throughout the programm."
      ]
    },
    {
      "cell_type": "code",
      "metadata": {
        "id": "6tIsZHol3DQ0"
      },
      "source": [
        "x = 1\n",
        "a, b = 3, -2\n"
      ],
      "execution_count": null,
      "outputs": []
    },
    {
      "cell_type": "code",
      "metadata": {
        "colab": {
          "base_uri": "https://localhost:8080/"
        },
        "id": "y9gFyHXn3ebA",
        "outputId": "8e7028fe-0632-44b3-e2bc-0fe2471ec473"
      },
      "source": [
        "type(x)"
      ],
      "execution_count": null,
      "outputs": [
        {
          "output_type": "execute_result",
          "data": {
            "text/plain": [
              "int"
            ]
          },
          "metadata": {},
          "execution_count": 19
        }
      ]
    },
    {
      "cell_type": "code",
      "metadata": {
        "colab": {
          "base_uri": "https://localhost:8080/"
        },
        "id": "rdi0EMpZ3naN",
        "outputId": "ccf696de-533f-486c-baa1-81bf0b052c94"
      },
      "source": [
        "y = 3.0\n",
        "type(y)"
      ],
      "execution_count": null,
      "outputs": [
        {
          "output_type": "execute_result",
          "data": {
            "text/plain": [
              "float"
            ]
          },
          "metadata": {},
          "execution_count": 20
        }
      ]
    },
    {
      "cell_type": "code",
      "metadata": {
        "colab": {
          "base_uri": "https://localhost:8080/"
        },
        "id": "Sxe-6Iwr37uu",
        "outputId": "5a9ab589-1132-4945-c604-9704566ac562"
      },
      "source": [
        "x = float(x)\n",
        "type(x)"
      ],
      "execution_count": null,
      "outputs": [
        {
          "output_type": "execute_result",
          "data": {
            "text/plain": [
              "float"
            ]
          },
          "metadata": {},
          "execution_count": 21
        }
      ]
    },
    {
      "cell_type": "code",
      "metadata": {
        "colab": {
          "base_uri": "https://localhost:8080/"
        },
        "id": "HZmjXqFL4X8A",
        "outputId": "7d74275d-9345-41cf-ca0b-9e8cea6cb627"
      },
      "source": [
        "s, t, u = \"1\", '3',\"three\"\n",
        "type(u)"
      ],
      "execution_count": null,
      "outputs": [
        {
          "output_type": "execute_result",
          "data": {
            "text/plain": [
              "str"
            ]
          },
          "metadata": {},
          "execution_count": 22
        }
      ]
    },
    {
      "cell_type": "markdown",
      "metadata": {
        "id": "X6cpjyFr4tLy"
      },
      "source": [
        "## Operations"
      ]
    },
    {
      "cell_type": "markdown",
      "metadata": {
        "id": "5zS5j1yt4xJs"
      },
      "source": [
        "### Arithmetic "
      ]
    },
    {
      "cell_type": "markdown",
      "metadata": {
        "id": "56CHnc1MAfbI"
      },
      "source": [
        "Below this are different codes used to perform mathematical operations, such as addition, subtraction, division, multiplication, and the like. \n",
        "\n"
      ]
    },
    {
      "cell_type": "code",
      "metadata": {
        "id": "h8iAkGeg41Gx"
      },
      "source": [
        "w, x, y, z = 4.0, -3.0, 1, -32"
      ],
      "execution_count": null,
      "outputs": []
    },
    {
      "cell_type": "code",
      "metadata": {
        "colab": {
          "base_uri": "https://localhost:8080/"
        },
        "id": "Ujeh9Chg5ISg",
        "outputId": "7c0057d4-e1ba-42bc-89ee-3d1f39138f7a"
      },
      "source": [
        "### Addition\n",
        "s = w + x\n",
        "s"
      ],
      "execution_count": null,
      "outputs": [
        {
          "output_type": "execute_result",
          "data": {
            "text/plain": [
              "1.0"
            ]
          },
          "metadata": {},
          "execution_count": 24
        }
      ]
    },
    {
      "cell_type": "code",
      "metadata": {
        "colab": {
          "base_uri": "https://localhost:8080/"
        },
        "id": "opnZKXoU5di3",
        "outputId": "49ef28a6-11d7-46b8-c040-4b92e1505cd0"
      },
      "source": [
        "### subtraction\n",
        "D = y - z\n",
        "D"
      ],
      "execution_count": null,
      "outputs": [
        {
          "output_type": "execute_result",
          "data": {
            "text/plain": [
              "33"
            ]
          },
          "metadata": {},
          "execution_count": 25
        }
      ]
    },
    {
      "cell_type": "code",
      "metadata": {
        "colab": {
          "base_uri": "https://localhost:8080/"
        },
        "id": "br64pmr15mRp",
        "outputId": "ddd3b548-6afe-4766-961a-ef4a9adda3b6"
      },
      "source": [
        "### Multiplication\n",
        "P = w * z\n",
        "P"
      ],
      "execution_count": null,
      "outputs": [
        {
          "output_type": "execute_result",
          "data": {
            "text/plain": [
              "-128.0"
            ]
          },
          "metadata": {},
          "execution_count": 26
        }
      ]
    },
    {
      "cell_type": "code",
      "metadata": {
        "colab": {
          "base_uri": "https://localhost:8080/"
        },
        "id": "1MFklh1e5vzq",
        "outputId": "53d1748c-5274-4d6d-f2b2-23a4baa3666b"
      },
      "source": [
        "### Division \n",
        "Q = y/x\n",
        "Q"
      ],
      "execution_count": null,
      "outputs": [
        {
          "output_type": "execute_result",
          "data": {
            "text/plain": [
              "-0.3333333333333333"
            ]
          },
          "metadata": {},
          "execution_count": 27
        }
      ]
    },
    {
      "cell_type": "code",
      "metadata": {
        "id": "VGd3v7IQ6VTm"
      },
      "source": [
        "### Floor Division\n",
        "Qf = w//x\n",
        "Qf"
      ],
      "execution_count": null,
      "outputs": []
    },
    {
      "cell_type": "code",
      "metadata": {
        "id": "LNtz7Cpa7DmM"
      },
      "source": [
        "### Exponentiation \n",
        "E = w**w\n",
        "E"
      ],
      "execution_count": null,
      "outputs": []
    },
    {
      "cell_type": "code",
      "metadata": {
        "id": "wWoSBaaH7af_"
      },
      "source": [
        "### Modulo \n",
        "mod = z%x\n",
        "mod"
      ],
      "execution_count": null,
      "outputs": []
    },
    {
      "cell_type": "markdown",
      "metadata": {
        "id": "Rwvar5597wZG"
      },
      "source": [
        "### Assignment "
      ]
    },
    {
      "cell_type": "markdown",
      "metadata": {
        "id": "nlzkmcFvbcdV"
      },
      "source": [
        "This function is used to assign values to variables. "
      ]
    },
    {
      "cell_type": "code",
      "metadata": {
        "id": "9JI4ffRb70RI"
      },
      "source": [
        "A, B, C, D, E = 0, 100, 2, 1, 2"
      ],
      "execution_count": null,
      "outputs": []
    },
    {
      "cell_type": "code",
      "metadata": {
        "id": "vQ2gefjG75sw"
      },
      "source": [
        "A += w\n",
        "A\n"
      ],
      "execution_count": null,
      "outputs": []
    },
    {
      "cell_type": "code",
      "metadata": {
        "id": "LPh8zgTk8S16"
      },
      "source": [
        "B -= x\n",
        "B"
      ],
      "execution_count": null,
      "outputs": []
    },
    {
      "cell_type": "code",
      "metadata": {
        "id": "AYBo8wgx8eSd"
      },
      "source": [
        "C *= w\n",
        "C"
      ],
      "execution_count": null,
      "outputs": []
    },
    {
      "cell_type": "code",
      "metadata": {
        "colab": {
          "base_uri": "https://localhost:8080/"
        },
        "id": "TuUEy7sC9h7I",
        "outputId": "c2c53d79-d7d1-42b8-a632-48d46439bc5d"
      },
      "source": [
        "E **= y\n",
        "E"
      ],
      "execution_count": null,
      "outputs": [
        {
          "output_type": "execute_result",
          "data": {
            "text/plain": [
              "256.0"
            ]
          },
          "metadata": {},
          "execution_count": 50
        }
      ]
    },
    {
      "cell_type": "code",
      "metadata": {
        "id": "JwoWpbbq9VeR"
      },
      "source": [
        "D /= x\n",
        "D"
      ],
      "execution_count": null,
      "outputs": []
    },
    {
      "cell_type": "markdown",
      "metadata": {
        "id": "Zptsge__-RWV"
      },
      "source": [
        "### Comparators"
      ]
    },
    {
      "cell_type": "markdown",
      "metadata": {
        "id": "RkGFcrLHbpb5"
      },
      "source": [
        "From the word itself, its purpose is to compare values from different variables."
      ]
    },
    {
      "cell_type": "code",
      "metadata": {
        "id": "Bw6e3en2-UnC"
      },
      "source": [
        "size_1, size_2, size_3 = 1, 2.0, \"1\" \n",
        "true_size = 1.0"
      ],
      "execution_count": null,
      "outputs": []
    },
    {
      "cell_type": "code",
      "metadata": {
        "id": "kqdO0B7y-hiN"
      },
      "source": [
        "## Equality \n",
        "size_1 == true_size"
      ],
      "execution_count": null,
      "outputs": []
    },
    {
      "cell_type": "code",
      "metadata": {
        "colab": {
          "base_uri": "https://localhost:8080/"
        },
        "id": "BZNzc7qs-3R5",
        "outputId": "9ef09da7-d56f-42ad-f661-fd7c08a0cc71"
      },
      "source": [
        "## non-equality\n",
        "size_2 != true_size"
      ],
      "execution_count": null,
      "outputs": [
        {
          "output_type": "execute_result",
          "data": {
            "text/plain": [
              "True"
            ]
          },
          "metadata": {},
          "execution_count": 55
        }
      ]
    },
    {
      "cell_type": "code",
      "metadata": {
        "colab": {
          "base_uri": "https://localhost:8080/"
        },
        "id": "g752xDnI_AFA",
        "outputId": "45da1b2c-b621-4a83-ca15-d1133acc3ac1"
      },
      "source": [
        "## Inequality \n",
        "s1 = size_1>size_2\n",
        "s2 = size_1<size_2/2\n",
        "s3 = true_size>=size_1\n",
        "s4 = size_2 <= true_size\n"
      ],
      "execution_count": null,
      "outputs": [
        {
          "output_type": "execute_result",
          "data": {
            "text/plain": [
              "False"
            ]
          },
          "metadata": {},
          "execution_count": 62
        }
      ]
    },
    {
      "cell_type": "markdown",
      "metadata": {
        "id": "RiK29MRt_5it"
      },
      "source": [
        "### Logical "
      ]
    },
    {
      "cell_type": "markdown",
      "metadata": {
        "id": "lvEmam2PcV_s"
      },
      "source": [
        "This operator is used on conditional statements, the statement can be either true or false. It can perform AND, OR, and NOT operators."
      ]
    },
    {
      "cell_type": "code",
      "metadata": {
        "id": "fXBuRQmD_7tq"
      },
      "source": [
        "size_1 == true_size"
      ],
      "execution_count": null,
      "outputs": []
    },
    {
      "cell_type": "code",
      "metadata": {
        "id": "EbVDv0kdAI77"
      },
      "source": [
        "size_1 is true_size"
      ],
      "execution_count": null,
      "outputs": []
    },
    {
      "cell_type": "code",
      "metadata": {
        "id": "YeB1kH9qAbLI"
      },
      "source": [
        "size_1 is not true_size"
      ],
      "execution_count": null,
      "outputs": []
    },
    {
      "cell_type": "code",
      "metadata": {
        "colab": {
          "base_uri": "https://localhost:8080/"
        },
        "id": "6JV6FF84AjHY",
        "outputId": "42650a21-c850-453f-d3ce-6c3fce655347"
      },
      "source": [
        "P, Q = True, False \n",
        "conj = P and Q"
      ],
      "execution_count": null,
      "outputs": [
        {
          "output_type": "execute_result",
          "data": {
            "text/plain": [
              "False"
            ]
          },
          "metadata": {},
          "execution_count": 69
        }
      ]
    },
    {
      "cell_type": "code",
      "metadata": {
        "colab": {
          "base_uri": "https://localhost:8080/"
        },
        "id": "HXkYL8b5A-Cj",
        "outputId": "b93ffd4b-cc7a-4b51-eec9-645844d5db53"
      },
      "source": [
        "disj = P or Q\n",
        "disj"
      ],
      "execution_count": null,
      "outputs": [
        {
          "output_type": "execute_result",
          "data": {
            "text/plain": [
              "True"
            ]
          },
          "metadata": {},
          "execution_count": 70
        }
      ]
    },
    {
      "cell_type": "code",
      "metadata": {
        "colab": {
          "base_uri": "https://localhost:8080/"
        },
        "id": "SI_k8BneBJbj",
        "outputId": "637addcd-b6c0-41c0-ec02-71dc9d68dcfb"
      },
      "source": [
        "nand = not(P and Q)\n",
        "nand"
      ],
      "execution_count": null,
      "outputs": [
        {
          "output_type": "execute_result",
          "data": {
            "text/plain": [
              "True"
            ]
          },
          "metadata": {},
          "execution_count": 71
        }
      ]
    },
    {
      "cell_type": "code",
      "metadata": {
        "colab": {
          "base_uri": "https://localhost:8080/"
        },
        "id": "TYGU-MKXBX3N",
        "outputId": "c8e71f60-74f2-47de-c4bd-b64ebb904210"
      },
      "source": [
        "xor = (not P and Q) or (P and not Q)\n",
        "xor"
      ],
      "execution_count": null,
      "outputs": [
        {
          "output_type": "execute_result",
          "data": {
            "text/plain": [
              "True"
            ]
          },
          "metadata": {},
          "execution_count": 72
        }
      ]
    },
    {
      "cell_type": "markdown",
      "metadata": {
        "id": "ntjcQQLVBxV6"
      },
      "source": [
        "## Input and Output"
      ]
    },
    {
      "cell_type": "markdown",
      "metadata": {
        "id": "TeZnU4F9dHb-"
      },
      "source": [
        "In this section we learned how to code input and output operations. The output function is used to display data on the screen, or any output device. While input function is where we asked input from the user and assign the input onto a variable. "
      ]
    },
    {
      "cell_type": "code",
      "metadata": {
        "id": "PEQ0go1dB2v0"
      },
      "source": [
        "print(\"Hello world!\")"
      ],
      "execution_count": null,
      "outputs": []
    },
    {
      "cell_type": "code",
      "metadata": {
        "id": "nMcDT0UgCFEW"
      },
      "source": [
        "cnt = 14000"
      ],
      "execution_count": null,
      "outputs": []
    },
    {
      "cell_type": "code",
      "metadata": {
        "id": "eCAhqbZZCHWk"
      },
      "source": [
        "string = \"Hello world\"\n",
        "print(string, \", current COVID count is:\", cnt )\n",
        "cnt += 10000"
      ],
      "execution_count": null,
      "outputs": []
    },
    {
      "cell_type": "code",
      "metadata": {
        "id": "Lp9vN3DQC5oj"
      },
      "source": [
        "print(f\"{string}, current count is:{cnt}\")"
      ],
      "execution_count": null,
      "outputs": []
    },
    {
      "cell_type": "code",
      "metadata": {
        "colab": {
          "base_uri": "https://localhost:8080/"
        },
        "id": "g1ANC_QJDyh0",
        "outputId": "21bc56cc-a642-4c30-c3e3-751797ddc3ac"
      },
      "source": [
        "sem_grade = 86.25\n",
        "name = \"joaquin\"\n",
        "print(\"Hello {}, your semestral grade is: {}\". format(name, sem_grade))"
      ],
      "execution_count": null,
      "outputs": [
        {
          "output_type": "stream",
          "name": "stdout",
          "text": [
            "Hello joaquin, your semestral grade is: 86.25\n"
          ]
        }
      ]
    },
    {
      "cell_type": "code",
      "metadata": {
        "id": "XPFG4EHDDMc_"
      },
      "source": [
        "pg, mg, fg = 0.3, 0.3, 0.4\n",
        "print(\"The weights of you semestral grades are: \\\n",
        "\\n\\t {:.2%} for prelims\\\n",
        "\\n\\t {:.2%} for midterms, and\\\n",
        "\\n\\t {:.2%} for Finals\". format(pg, mg, fg))"
      ],
      "execution_count": null,
      "outputs": []
    },
    {
      "cell_type": "code",
      "metadata": {
        "id": "T8VQU-jqFjPH"
      },
      "source": [
        "e = input(\"Enter a number:\")\n",
        "e "
      ],
      "execution_count": null,
      "outputs": []
    },
    {
      "cell_type": "code",
      "metadata": {
        "id": "G2GvSplvF1Z6"
      },
      "source": [
        "name = input(\"Enter your name: \")\n",
        "pg = input(\"Enter prelim grade: \")\n",
        "mg = input(\"Enter midterm grade: \")\n",
        "fg = input(\"Enter final grade: \")\n",
        "sem_grade = None\n",
        "print(\"Hello {}, your semestral grade is:{}\". format(name, sem_grade))\n"
      ],
      "execution_count": null,
      "outputs": []
    },
    {
      "cell_type": "markdown",
      "metadata": {
        "id": "S62nK-J6LLfk"
      },
      "source": [
        "## Looping Statements "
      ]
    },
    {
      "cell_type": "markdown",
      "metadata": {
        "id": "VQj7boFPLULL"
      },
      "source": [
        "## While"
      ]
    },
    {
      "cell_type": "markdown",
      "metadata": {
        "id": "9YeF27CqkclI"
      },
      "source": [
        "while statement is used to run a code while the statement remains true."
      ]
    },
    {
      "cell_type": "code",
      "metadata": {
        "id": "Dnbjm5tFLWau"
      },
      "source": [
        "## While loops \n",
        "i, j = 0, 10 \n",
        "while(i<=j):\n",
        "  print(f\"{i}\\t|\\t{j}\")\n",
        "  i += 1\n"
      ],
      "execution_count": null,
      "outputs": []
    },
    {
      "cell_type": "markdown",
      "metadata": {
        "id": "lwFNmWFgL6aa"
      },
      "source": [
        "## For"
      ]
    },
    {
      "cell_type": "markdown",
      "metadata": {
        "id": "v0K-8v1xnzU4"
      },
      "source": [
        "A For statement is used to repeat a certain code for a list of variables. "
      ]
    },
    {
      "cell_type": "code",
      "metadata": {
        "id": "Ipw1fDsrL7zg"
      },
      "source": [
        "# for\n",
        "i = 0\n",
        "for i in range(10):\n",
        "  print(i)"
      ],
      "execution_count": null,
      "outputs": []
    },
    {
      "cell_type": "code",
      "metadata": {
        "id": "IX-dit_6Mtfk"
      },
      "source": [
        "playlist = [\"bahay kubo\", \"Magandang kanta\", \"buko\"]\n",
        "print('Now playing:\\n')\n",
        "for song in playlist:\n",
        "  print(song)"
      ],
      "execution_count": null,
      "outputs": []
    },
    {
      "cell_type": "markdown",
      "metadata": {
        "id": "l21w_eDUNNoW"
      },
      "source": [
        "## Flow Control"
      ]
    },
    {
      "cell_type": "markdown",
      "metadata": {
        "id": "XP1uf8MwNTp9"
      },
      "source": [
        "### Condition statements"
      ]
    },
    {
      "cell_type": "markdown",
      "metadata": {
        "id": "fVOJz4Uodwbr"
      },
      "source": [
        "This command is used on conditional statements. Its main function is to look at the statements and decide if the statements meet the certain criteria for it to be true or false. The command also decides on what codes will be working. "
      ]
    },
    {
      "cell_type": "code",
      "metadata": {
        "colab": {
          "base_uri": "https://localhost:8080/"
        },
        "id": "ZVEyxDYSNW5a",
        "outputId": "ed07ac09-c57f-48c7-8e45-5d823b4d2d70"
      },
      "source": [
        "num_1, num_2 = 22, 12 \n",
        "if(num_1 == num_2):\n",
        "  print(\"HAHA\")\n",
        "elif(num_1>num_2):\n",
        "  print(\"HOHO\")\n",
        "else:\n",
        "  print(\"HUHU\")"
      ],
      "execution_count": null,
      "outputs": [
        {
          "output_type": "stream",
          "name": "stdout",
          "text": [
            "HOHO\n"
          ]
        }
      ]
    },
    {
      "cell_type": "markdown",
      "metadata": {
        "id": "cxeI8jUnODIj"
      },
      "source": [
        "## Functions"
      ]
    },
    {
      "cell_type": "markdown",
      "metadata": {
        "id": "0Cl7UmSyh5YG"
      },
      "source": [
        "A function is a block of code designed to perform its task. It can also make a programm more simple. "
      ]
    },
    {
      "cell_type": "code",
      "metadata": {
        "id": "qIPnAreKOGhq"
      },
      "source": [
        "def delete_user(userid):\n",
        "  print(\"Successfully deleted user: {}\". format(userid))"
      ],
      "execution_count": 9,
      "outputs": []
    },
    {
      "cell_type": "code",
      "metadata": {
        "id": "BrO3yI9FOfDH",
        "colab": {
          "base_uri": "https://localhost:8080/"
        },
        "outputId": "ec866b5f-0474-4242-89c1-a5c893def836"
      },
      "source": [
        "userid = 2020-100100\n",
        "delete_user(2020_100100)"
      ],
      "execution_count": 10,
      "outputs": [
        {
          "output_type": "stream",
          "name": "stdout",
          "text": [
            "Successfully deleted user: 2020100100\n"
          ]
        }
      ]
    },
    {
      "cell_type": "code",
      "metadata": {
        "id": "cpeTVCmQO0-P"
      },
      "source": [
        "def add(addend1, addend2):\n",
        "  sum = addend1 + addend2\n",
        "  return sum"
      ],
      "execution_count": 5,
      "outputs": []
    },
    {
      "cell_type": "code",
      "metadata": {
        "colab": {
          "base_uri": "https://localhost:8080/"
        },
        "id": "QkhvsosIPsfO",
        "outputId": "fdcadfa3-1b06-4dab-8eef-c7021bc4ea20"
      },
      "source": [
        "add(5, 4)"
      ],
      "execution_count": 6,
      "outputs": [
        {
          "output_type": "execute_result",
          "data": {
            "text/plain": [
              "9"
            ]
          },
          "metadata": {},
          "execution_count": 6
        }
      ]
    }
  ]
}