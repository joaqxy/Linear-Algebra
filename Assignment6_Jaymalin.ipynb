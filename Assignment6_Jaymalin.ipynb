{
  "nbformat": 4,
  "nbformat_minor": 0,
  "metadata": {
    "colab": {
      "name": "Assignment6_Jaymalin.ipynb",
      "provenance": [],
      "authorship_tag": "ABX9TyN6LlyAryl+/xmjiq0T1TjN",
      "include_colab_link": true
    },
    "kernelspec": {
      "name": "python3",
      "display_name": "Python 3"
    },
    "language_info": {
      "name": "python"
    }
  },
  "cells": [
    {
      "cell_type": "markdown",
      "metadata": {
        "id": "view-in-github",
        "colab_type": "text"
      },
      "source": [
        "<a href=\"https://colab.research.google.com/github/joaqxy/Linear-Algebra/blob/main/Assignment6_Jaymalin.ipynb\" target=\"_parent\"><img src=\"https://colab.research.google.com/assets/colab-badge.svg\" alt=\"Open In Colab\"/></a>"
      ]
    },
    {
      "cell_type": "markdown",
      "metadata": {
        "id": "1pWH-VvTEmdL"
      },
      "source": [
        "## Operation on Matrices \n",
        "Now that you have a fundamental knowledge about representing and operating with vectors as well as fudamentals of matrices, we'll try to the same operations with matrices and even more "
      ]
    },
    {
      "cell_type": "markdown",
      "metadata": {
        "id": "mAWSa8moE5j3"
      },
      "source": [
        "## Objectives \n",
        "At the end of this activity you will be able to: \n",
        "\n",
        "1. be familiar with the fundamental matrix operations.\n",
        "2. Apply the operations to solve intermediate eqautions. \n",
        "3. apply matrix algebra in engineering solutions. "
      ]
    },
    {
      "cell_type": "markdown",
      "metadata": {
        "id": "-PjAF8VKFR_5"
      },
      "source": [
        "## Discussion \n"
      ]
    },
    {
      "cell_type": "code",
      "metadata": {
        "id": "QpVXgkvUFTwi"
      },
      "source": [
        "import numpy as np\n",
        "import matplotlib.pyplot as plt\n",
        "%matplotlib inline"
      ],
      "execution_count": 2,
      "outputs": []
    },
    {
      "cell_type": "markdown",
      "metadata": {
        "id": "8qtL5WgqHqXa"
      },
      "source": [
        "## Transposition "
      ]
    },
    {
      "cell_type": "markdown",
      "metadata": {
        "id": "RZV6bcdZHs72"
      },
      "source": [
        "$$A = \\begin{bmatrix} 1 & 2 & 5\\\\5 & -1 &0 \\\\ 0 & -3 & 3\\end{bmatrix} $$"
      ]
    },
    {
      "cell_type": "code",
      "metadata": {
        "colab": {
          "base_uri": "https://localhost:8080/"
        },
        "id": "5Az8pZ0NH5Vd",
        "outputId": "6c2332b1-9167-47d7-de87-978c8f52b32a"
      },
      "source": [
        "A = np.array([\n",
        "              [1,2,5],\n",
        "              [5,-1,0],\n",
        "              [0,-3,3]\n",
        "])\n",
        "A"
      ],
      "execution_count": null,
      "outputs": [
        {
          "output_type": "execute_result",
          "data": {
            "text/plain": [
              "array([[ 1,  2,  5],\n",
              "       [ 5, -1,  0],\n",
              "       [ 0, -3,  3]])"
            ]
          },
          "metadata": {},
          "execution_count": 3
        }
      ]
    },
    {
      "cell_type": "code",
      "metadata": {
        "colab": {
          "base_uri": "https://localhost:8080/"
        },
        "id": "agVHYH-1IJj_",
        "outputId": "d81da3e9-8184-458e-8ab6-9a21dfa6e063"
      },
      "source": [
        "AT1 = np.transpose(A)\n",
        "AT1\n"
      ],
      "execution_count": null,
      "outputs": [
        {
          "output_type": "execute_result",
          "data": {
            "text/plain": [
              "array([[ 1,  5,  0],\n",
              "       [ 2, -1, -3],\n",
              "       [ 5,  0,  3]])"
            ]
          },
          "metadata": {},
          "execution_count": 4
        }
      ]
    },
    {
      "cell_type": "code",
      "metadata": {
        "colab": {
          "base_uri": "https://localhost:8080/"
        },
        "id": "cHsqRPv3IaLT",
        "outputId": "ff3aa75f-5f4f-4345-e607-e0f9c4e5b83f"
      },
      "source": [
        "## T method\n",
        "AT2 = A.T\n",
        "AT2\n"
      ],
      "execution_count": null,
      "outputs": [
        {
          "output_type": "execute_result",
          "data": {
            "text/plain": [
              "array([[ 1,  5,  0],\n",
              "       [ 2, -1, -3],\n",
              "       [ 5,  0,  3]])"
            ]
          },
          "metadata": {},
          "execution_count": 5
        }
      ]
    },
    {
      "cell_type": "code",
      "metadata": {
        "colab": {
          "base_uri": "https://localhost:8080/"
        },
        "id": "6bEccfYNIjxE",
        "outputId": "80e4f02e-2061-4e90-f936-42fbc7811163"
      },
      "source": [
        "np.array_equiv(AT1,AT2)"
      ],
      "execution_count": null,
      "outputs": [
        {
          "output_type": "execute_result",
          "data": {
            "text/plain": [
              "True"
            ]
          },
          "metadata": {},
          "execution_count": 6
        }
      ]
    },
    {
      "cell_type": "code",
      "metadata": {
        "colab": {
          "base_uri": "https://localhost:8080/"
        },
        "id": "fxVe5jFlKu3f",
        "outputId": "b9a61146-e91d-4f01-e18a-32f09e24160d"
      },
      "source": [
        "B = np.array([\n",
        "              [1,2,3,4],\n",
        "              [1,0,2,1],\n",
        "])\n",
        "B.shape "
      ],
      "execution_count": null,
      "outputs": [
        {
          "output_type": "execute_result",
          "data": {
            "text/plain": [
              "(2, 4)"
            ]
          },
          "metadata": {},
          "execution_count": 7
        }
      ]
    },
    {
      "cell_type": "code",
      "metadata": {
        "colab": {
          "base_uri": "https://localhost:8080/"
        },
        "id": "xeWwNjHtK7Tv",
        "outputId": "6fcf3a15-d6be-457d-a7c0-68e43ede366a"
      },
      "source": [
        "np.transpose(B).shape"
      ],
      "execution_count": null,
      "outputs": [
        {
          "output_type": "execute_result",
          "data": {
            "text/plain": [
              "(4, 2)"
            ]
          },
          "metadata": {},
          "execution_count": 8
        }
      ]
    },
    {
      "cell_type": "code",
      "metadata": {
        "colab": {
          "base_uri": "https://localhost:8080/"
        },
        "id": "57-76987LHbc",
        "outputId": "989bcdcf-0f97-473b-b582-c1a6d8dd96b3"
      },
      "source": [
        "B.T.shape \n"
      ],
      "execution_count": null,
      "outputs": [
        {
          "output_type": "execute_result",
          "data": {
            "text/plain": [
              "(4, 2)"
            ]
          },
          "metadata": {},
          "execution_count": 9
        }
      ]
    },
    {
      "cell_type": "markdown",
      "metadata": {
        "id": "YcbLE6ATLNEG"
      },
      "source": [
        "Try to create your own matrix "
      ]
    },
    {
      "cell_type": "code",
      "metadata": {
        "colab": {
          "base_uri": "https://localhost:8080/"
        },
        "id": "gQesLLQjLRyk",
        "outputId": "13d15798-1696-4b3e-fd71-6f990abb0eb2"
      },
      "source": [
        "C = np.array([\n",
        "              [3,2,0],\n",
        "              [5,6,7],\n",
        "              [8,1,10,]\n",
        "\n",
        "])\n",
        "C"
      ],
      "execution_count": null,
      "outputs": [
        {
          "output_type": "execute_result",
          "data": {
            "text/plain": [
              "array([[ 3,  2,  0],\n",
              "       [ 5,  6,  7],\n",
              "       [ 8,  1, 10]])"
            ]
          },
          "metadata": {},
          "execution_count": 17
        }
      ]
    },
    {
      "cell_type": "code",
      "metadata": {
        "colab": {
          "base_uri": "https://localhost:8080/"
        },
        "id": "xIZPzBRyLtFc",
        "outputId": "a39749f5-4f33-474e-db1b-4741379fbcbf"
      },
      "source": [
        "C.shape"
      ],
      "execution_count": null,
      "outputs": [
        {
          "output_type": "execute_result",
          "data": {
            "text/plain": [
              "(3, 3)"
            ]
          },
          "metadata": {},
          "execution_count": 18
        }
      ]
    },
    {
      "cell_type": "code",
      "metadata": {
        "colab": {
          "base_uri": "https://localhost:8080/"
        },
        "id": "W6wbYPPWLhoh",
        "outputId": "e66d76e7-0409-4dcd-8dab-6241a885dc9c"
      },
      "source": [
        "AT3 = C.T\n",
        "AT3"
      ],
      "execution_count": null,
      "outputs": [
        {
          "output_type": "execute_result",
          "data": {
            "text/plain": [
              "array([[ 3,  5,  8],\n",
              "       [ 2,  6,  1],\n",
              "       [ 0,  7, 10]])"
            ]
          },
          "metadata": {},
          "execution_count": 11
        }
      ]
    },
    {
      "cell_type": "code",
      "metadata": {
        "colab": {
          "base_uri": "https://localhost:8080/"
        },
        "id": "HeM02UcxL-sE",
        "outputId": "b2c95107-69b2-4a85-bece-b5086368f2e9"
      },
      "source": [
        "C.T.shape \n"
      ],
      "execution_count": null,
      "outputs": [
        {
          "output_type": "execute_result",
          "data": {
            "text/plain": [
              "(3, 3)"
            ]
          },
          "metadata": {},
          "execution_count": 19
        }
      ]
    },
    {
      "cell_type": "markdown",
      "metadata": {
        "id": "b-0BhT12MzSR"
      },
      "source": [
        "## Dot product / Inner product"
      ]
    },
    {
      "cell_type": "code",
      "metadata": {
        "id": "_x2P2V0VN87Z"
      },
      "source": [
        "X = np.array([\n",
        "              [1,2],\n",
        "              [0,1]\n",
        "])\n",
        "Y = np.array([\n",
        "              [-1,0],\n",
        "              [2,2]\n",
        "])"
      ],
      "execution_count": 3,
      "outputs": []
    },
    {
      "cell_type": "code",
      "metadata": {
        "id": "zu3q_Bw2OJSC",
        "colab": {
          "base_uri": "https://localhost:8080/"
        },
        "outputId": "207ed391-42e9-4f35-cbc4-c8e409452b7e"
      },
      "source": [
        "np.dot(X,Y)"
      ],
      "execution_count": 4,
      "outputs": [
        {
          "output_type": "execute_result",
          "data": {
            "text/plain": [
              "array([[3, 4],\n",
              "       [2, 2]])"
            ]
          },
          "metadata": {},
          "execution_count": 4
        }
      ]
    },
    {
      "cell_type": "code",
      "metadata": {
        "colab": {
          "base_uri": "https://localhost:8080/"
        },
        "id": "3-prfJ2rOOaR",
        "outputId": "b5b55804-d5a0-43ad-de40-1ed855f5ed4a"
      },
      "source": [
        "X.dot(Y)"
      ],
      "execution_count": 5,
      "outputs": [
        {
          "output_type": "execute_result",
          "data": {
            "text/plain": [
              "array([[3, 4],\n",
              "       [2, 2]])"
            ]
          },
          "metadata": {},
          "execution_count": 5
        }
      ]
    },
    {
      "cell_type": "code",
      "metadata": {
        "id": "Be4zB6zSOSOI",
        "colab": {
          "base_uri": "https://localhost:8080/"
        },
        "outputId": "f08f764c-9265-4c5e-b476-12fb442da656"
      },
      "source": [
        "X @ Y \n"
      ],
      "execution_count": 6,
      "outputs": [
        {
          "output_type": "execute_result",
          "data": {
            "text/plain": [
              "array([[3, 4],\n",
              "       [2, 2]])"
            ]
          },
          "metadata": {},
          "execution_count": 6
        }
      ]
    },
    {
      "cell_type": "code",
      "metadata": {
        "id": "a5uo44e9OUmU",
        "colab": {
          "base_uri": "https://localhost:8080/"
        },
        "outputId": "0d8bb828-6a3d-40dd-a4b0-f3ca6f4ad116"
      },
      "source": [
        "np.matmul(X,Y)"
      ],
      "execution_count": 7,
      "outputs": [
        {
          "output_type": "execute_result",
          "data": {
            "text/plain": [
              "array([[3, 4],\n",
              "       [2, 2]])"
            ]
          },
          "metadata": {},
          "execution_count": 7
        }
      ]
    },
    {
      "cell_type": "code",
      "metadata": {
        "id": "UbJCbKrvOeuK"
      },
      "source": [
        "J = np.array([\n",
        "              [1,2,3],\n",
        "              [0,1,4],\n",
        "              [1,4,5]\n",
        "])\n",
        "J1 = np.array([\n",
        "              [-1,0,6],\n",
        "              [2,2,7],\n",
        "              [5,6,8]\n",
        "])"
      ],
      "execution_count": 8,
      "outputs": []
    },
    {
      "cell_type": "code",
      "metadata": {
        "colab": {
          "base_uri": "https://localhost:8080/"
        },
        "id": "b9ELoIdNO51e",
        "outputId": "3bcb2f9f-a900-4e64-f825-49affc2324a8"
      },
      "source": [
        "np.dot(J,J1)"
      ],
      "execution_count": 9,
      "outputs": [
        {
          "output_type": "execute_result",
          "data": {
            "text/plain": [
              "array([[18, 22, 44],\n",
              "       [22, 26, 39],\n",
              "       [32, 38, 74]])"
            ]
          },
          "metadata": {},
          "execution_count": 9
        }
      ]
    },
    {
      "cell_type": "code",
      "metadata": {
        "colab": {
          "base_uri": "https://localhost:8080/"
        },
        "id": "_D_7lKf-O-jh",
        "outputId": "491f08d4-afa1-48b1-fba5-b9374c49cf9b"
      },
      "source": [
        "J.dot(J1)"
      ],
      "execution_count": 10,
      "outputs": [
        {
          "output_type": "execute_result",
          "data": {
            "text/plain": [
              "array([[18, 22, 44],\n",
              "       [22, 26, 39],\n",
              "       [32, 38, 74]])"
            ]
          },
          "metadata": {},
          "execution_count": 10
        }
      ]
    },
    {
      "cell_type": "code",
      "metadata": {
        "colab": {
          "base_uri": "https://localhost:8080/"
        },
        "id": "cOWEOSqMPBEA",
        "outputId": "e9e6904b-944f-4989-b48c-0c590d74c47b"
      },
      "source": [
        "J @ J1"
      ],
      "execution_count": 11,
      "outputs": [
        {
          "output_type": "execute_result",
          "data": {
            "text/plain": [
              "array([[18, 22, 44],\n",
              "       [22, 26, 39],\n",
              "       [32, 38, 74]])"
            ]
          },
          "metadata": {},
          "execution_count": 11
        }
      ]
    },
    {
      "cell_type": "code",
      "metadata": {
        "colab": {
          "base_uri": "https://localhost:8080/"
        },
        "id": "m2Cwyz-xPDSK",
        "outputId": "79936790-c73e-4082-a980-1c9a4254009c"
      },
      "source": [
        "np.matmul(J,J1)"
      ],
      "execution_count": 12,
      "outputs": [
        {
          "output_type": "execute_result",
          "data": {
            "text/plain": [
              "array([[18, 22, 44],\n",
              "       [22, 26, 39],\n",
              "       [32, 38, 74]])"
            ]
          },
          "metadata": {},
          "execution_count": 12
        }
      ]
    },
    {
      "cell_type": "code",
      "metadata": {
        "colab": {
          "base_uri": "https://localhost:8080/"
        },
        "id": "KZy8m0YMQb0Z",
        "outputId": "1de3685f-2b0f-4d7d-c7fd-fa9ef8078683"
      },
      "source": [
        "A = np.array([\n",
        "              [2,4],\n",
        "              [5,-2],\n",
        "              [0,1]\n",
        "])\n",
        "B = np.array([\n",
        "              [1,1],\n",
        "              [3,3],\n",
        "              [-1,-2]\n",
        "])\n",
        "C = np.array([\n",
        "              [0,1,1],\n",
        "              [1,1,2]\n",
        "])\n",
        "print(A.shape)\n",
        "print(B.shape)\n",
        "print(C.shape)"
      ],
      "execution_count": 13,
      "outputs": [
        {
          "output_type": "stream",
          "name": "stdout",
          "text": [
            "(3, 2)\n",
            "(3, 2)\n",
            "(2, 3)\n"
          ]
        }
      ]
    },
    {
      "cell_type": "code",
      "metadata": {
        "colab": {
          "base_uri": "https://localhost:8080/"
        },
        "id": "qiGjdWYCRj53",
        "outputId": "ebd09978-4b4b-4ee3-c88c-1c834d664506"
      },
      "source": [
        "A @ C"
      ],
      "execution_count": 14,
      "outputs": [
        {
          "output_type": "execute_result",
          "data": {
            "text/plain": [
              "array([[ 4,  6, 10],\n",
              "       [-2,  3,  1],\n",
              "       [ 1,  1,  2]])"
            ]
          },
          "metadata": {},
          "execution_count": 14
        }
      ]
    },
    {
      "cell_type": "code",
      "metadata": {
        "colab": {
          "base_uri": "https://localhost:8080/"
        },
        "id": "6fkep2CoRlfd",
        "outputId": "9b12c99c-5440-45a5-81f4-a563e3ea53bd"
      },
      "source": [
        "B @ C"
      ],
      "execution_count": 15,
      "outputs": [
        {
          "output_type": "execute_result",
          "data": {
            "text/plain": [
              "array([[ 1,  2,  3],\n",
              "       [ 3,  6,  9],\n",
              "       [-2, -3, -5]])"
            ]
          },
          "metadata": {},
          "execution_count": 15
        }
      ]
    },
    {
      "cell_type": "code",
      "metadata": {
        "colab": {
          "base_uri": "https://localhost:8080/"
        },
        "id": "ZZt7e7mzSbc8",
        "outputId": "611a7385-9337-4e35-e630-abf21b0359b4"
      },
      "source": [
        "X = np.array([\n",
        "              [1,2,3,0]\n",
        "])\n",
        "Y = np.array([\n",
        "              [1,0,4,-1]\n",
        "])\n",
        "print(X.shape)\n",
        "print(Y.shape)"
      ],
      "execution_count": 16,
      "outputs": [
        {
          "output_type": "stream",
          "name": "stdout",
          "text": [
            "(1, 4)\n",
            "(1, 4)\n"
          ]
        }
      ]
    },
    {
      "cell_type": "code",
      "metadata": {
        "colab": {
          "base_uri": "https://localhost:8080/"
        },
        "id": "42HwcX74Sz7A",
        "outputId": "a9cd84de-5808-4fdd-af9d-35f445ff47e5"
      },
      "source": [
        "X.T @ Y "
      ],
      "execution_count": 17,
      "outputs": [
        {
          "output_type": "execute_result",
          "data": {
            "text/plain": [
              "array([[ 1,  0,  4, -1],\n",
              "       [ 2,  0,  8, -2],\n",
              "       [ 3,  0, 12, -3],\n",
              "       [ 0,  0,  0,  0]])"
            ]
          },
          "metadata": {},
          "execution_count": 17
        }
      ]
    },
    {
      "cell_type": "code",
      "metadata": {
        "colab": {
          "base_uri": "https://localhost:8080/"
        },
        "id": "9UVi6IteTJaU",
        "outputId": "2cc7a2f1-b94d-492d-c93e-c6d05dfc431a"
      },
      "source": [
        "X @ Y.T"
      ],
      "execution_count": 18,
      "outputs": [
        {
          "output_type": "execute_result",
          "data": {
            "text/plain": [
              "array([[13]])"
            ]
          },
          "metadata": {},
          "execution_count": 18
        }
      ]
    },
    {
      "cell_type": "code",
      "metadata": {
        "colab": {
          "base_uri": "https://localhost:8080/"
        },
        "id": "fxKBCs71Til0",
        "outputId": "840eb052-5dbf-422b-9376-4bf40594939a"
      },
      "source": [
        "A = np.array([\n",
        "              [2,4,5],\n",
        "              [5,-2,6],\n",
        "              [0,1,4]\n",
        "])\n",
        "B = np.array([\n",
        "              [1,1,2],\n",
        "              [3,3,4],\n",
        "              [-1,-2,6]\n",
        "])\n",
        "C = np.array([\n",
        "              [0,1,1],\n",
        "              [1,1,2],\n",
        "              [8,5,1]\n",
        "])\n",
        "print(A.shape)\n",
        "print(B.shape)\n",
        "print(C.shape)"
      ],
      "execution_count": 19,
      "outputs": [
        {
          "output_type": "stream",
          "name": "stdout",
          "text": [
            "(3, 3)\n",
            "(3, 3)\n",
            "(3, 3)\n"
          ]
        }
      ]
    },
    {
      "cell_type": "code",
      "metadata": {
        "colab": {
          "base_uri": "https://localhost:8080/"
        },
        "id": "ck-PvH_FUELl",
        "outputId": "6d7fa550-c204-4228-ecf1-99fd8cf188c4"
      },
      "source": [
        "J = A @ (B + C)\n",
        "J"
      ],
      "execution_count": 20,
      "outputs": [
        {
          "output_type": "execute_result",
          "data": {
            "text/plain": [
              "array([[53, 35, 65],\n",
              "       [39, 20, 45],\n",
              "       [32, 16, 34]])"
            ]
          },
          "metadata": {},
          "execution_count": 20
        }
      ]
    },
    {
      "cell_type": "code",
      "metadata": {
        "id": "6Mq2KdUdUL3V",
        "colab": {
          "base_uri": "https://localhost:8080/"
        },
        "outputId": "615a2bb5-b471-4359-c81c-244b2ddb97b8"
      },
      "source": [
        "R = (A @ B ) + ( A @ C)\n",
        "R"
      ],
      "execution_count": 21,
      "outputs": [
        {
          "output_type": "execute_result",
          "data": {
            "text/plain": [
              "array([[53, 35, 65],\n",
              "       [39, 20, 45],\n",
              "       [32, 16, 34]])"
            ]
          },
          "metadata": {},
          "execution_count": 21
        }
      ]
    },
    {
      "cell_type": "code",
      "metadata": {
        "id": "-i5d6LkuUep0",
        "colab": {
          "base_uri": "https://localhost:8080/"
        },
        "outputId": "135ddcaf-c43f-4279-d26a-1448619efa0d"
      },
      "source": [
        "np.array_equal(J,R)"
      ],
      "execution_count": 22,
      "outputs": [
        {
          "output_type": "execute_result",
          "data": {
            "text/plain": [
              "True"
            ]
          },
          "metadata": {},
          "execution_count": 22
        }
      ]
    },
    {
      "cell_type": "code",
      "metadata": {
        "id": "ymTDBZq5ZMT4",
        "colab": {
          "base_uri": "https://localhost:8080/"
        },
        "outputId": "78701493-8dc2-4410-8beb-5552439e38a3"
      },
      "source": [
        "A = np.array([\n",
        "              [1,4],\n",
        "              [0,3]\n",
        "])\n",
        "np.linalg.det(A)"
      ],
      "execution_count": 23,
      "outputs": [
        {
          "output_type": "execute_result",
          "data": {
            "text/plain": [
              "3.0000000000000004"
            ]
          },
          "metadata": {},
          "execution_count": 23
        }
      ]
    },
    {
      "cell_type": "markdown",
      "metadata": {
        "id": "Ux4dSIJHaQyF"
      },
      "source": [
        "## Inverse\n",
        "The inverse of a matrix is another fundamental operation in matrix algebra. Determining the inverse of a matrix let us determine if its solvability and its characteristic as a system of linear equation — we'll expand on this in the nect module. Another use of the inverse matrix is solving the problem of divisibility between matrices. Although element-wise division exists but dividing the entire concept of matrices does not exists. Inverse matrices provides a related operation that could have the same concept of \"dividing\" matrices.\n",
        "\n"
      ]
    },
    {
      "cell_type": "code",
      "metadata": {
        "colab": {
          "base_uri": "https://localhost:8080/"
        },
        "id": "JrL39fwHaSPG",
        "outputId": "3707cbef-17ed-41b4-c526-447c11006ddb"
      },
      "source": [
        "M = np.array([\n",
        "              [1,7],\n",
        "              [-3,5]\n",
        "])\n",
        "np.array(M @ np.linalg.inv(M), dtype = int)"
      ],
      "execution_count": 24,
      "outputs": [
        {
          "output_type": "execute_result",
          "data": {
            "text/plain": [
              "array([[1, 0],\n",
              "       [0, 1]])"
            ]
          },
          "metadata": {},
          "execution_count": 24
        }
      ]
    },
    {
      "cell_type": "code",
      "metadata": {
        "colab": {
          "base_uri": "https://localhost:8080/"
        },
        "id": "NyhgqFpPOp8z",
        "outputId": "97c38e0a-5abd-49b3-a665-6569241615ea"
      },
      "source": [
        "A = np.array([\n",
        "              [7, 8, 0],\n",
        "              [5, 4, -3],\n",
        "              [1, 2, 3]\n",
        "])\n",
        "B = np.linalg.inv(A)\n",
        "B"
      ],
      "execution_count": 30,
      "outputs": [
        {
          "output_type": "execute_result",
          "data": {
            "text/plain": [
              "array([[-1.        ,  1.33333333,  1.33333333],\n",
              "       [ 1.        , -1.16666667, -1.16666667],\n",
              "       [-0.33333333,  0.33333333,  0.66666667]])"
            ]
          },
          "metadata": {},
          "execution_count": 30
        }
      ]
    },
    {
      "cell_type": "code",
      "metadata": {
        "colab": {
          "base_uri": "https://localhost:8080/"
        },
        "id": "YwPhAIRUOs_L",
        "outputId": "52b1fddb-cf46-46ab-e683-c7cb862f5bd2"
      },
      "source": [
        "A @ B"
      ],
      "execution_count": 31,
      "outputs": [
        {
          "output_type": "execute_result",
          "data": {
            "text/plain": [
              "array([[ 1.00000000e+00,  0.00000000e+00,  0.00000000e+00],\n",
              "       [-2.77555756e-16,  1.00000000e+00,  0.00000000e+00],\n",
              "       [ 2.77555756e-16,  5.55111512e-17,  1.00000000e+00]])"
            ]
          },
          "metadata": {},
          "execution_count": 31
        }
      ]
    },
    {
      "cell_type": "code",
      "metadata": {
        "colab": {
          "base_uri": "https://localhost:8080/"
        },
        "id": "_amj4RjaOwOd",
        "outputId": "9fee0c14-a2c1-4bc0-effc-40bb0d2e6b21"
      },
      "source": [
        "J = np.array([\n",
        "    [12,4,19,1,3,25,6],\n",
        "    [3,5,10,15,6,4,3],\n",
        "    [7,8,9,16,0,0,0],\n",
        "    [1,6,3,5,8,32,11],\n",
        "    [18,6,5,7,15,6,11],\n",
        "    [-3,1,21,0,10,7,-35],\n",
        "    [-1,-2,-3,26,22,10,12],\n",
        "])\n",
        "J_inv = np.linalg.inv(J)\n",
        "np.array(J @ J_inv,dtype=int)"
      ],
      "execution_count": 33,
      "outputs": [
        {
          "output_type": "execute_result",
          "data": {
            "text/plain": [
              "array([[0, 0, 0, 0, 0, 0, 0],\n",
              "       [0, 0, 0, 0, 0, 0, 0],\n",
              "       [0, 0, 1, 0, 0, 0, 0],\n",
              "       [0, 0, 0, 0, 0, 0, 0],\n",
              "       [0, 0, 0, 0, 1, 0, 0],\n",
              "       [0, 0, 0, 0, 0, 1, 0],\n",
              "       [0, 0, 0, 0, 0, 0, 0]])"
            ]
          },
          "metadata": {},
          "execution_count": 33
        }
      ]
    },
    {
      "cell_type": "code",
      "metadata": {
        "colab": {
          "base_uri": "https://localhost:8080/"
        },
        "id": "HRr9mH3nOz4S",
        "outputId": "1b7c6765-5fa1-475d-98a4-7a314cdc0553"
      },
      "source": [
        "D = np.array([\n",
        "    [1.0, 1.5, 0.5],\n",
        "    [0.7, 0.5, 1.0],\n",
        "    [1.5, 0.7, 0.3]\n",
        "])\n",
        "C = np.array([\n",
        "    [0.2, 0.2, 0.6]\n",
        "])\n",
        "A_grade = D @ C.T\n",
        "A_grade\n"
      ],
      "execution_count": 35,
      "outputs": [
        {
          "output_type": "execute_result",
          "data": {
            "text/plain": [
              "array([[0.8 ],\n",
              "       [0.84],\n",
              "       [0.62]])"
            ]
          },
          "metadata": {},
          "execution_count": 35
        }
      ]
    },
    {
      "cell_type": "markdown",
      "metadata": {
        "id": "1zriWY1NRPp6"
      },
      "source": [
        "##Activity \n"
      ]
    },
    {
      "cell_type": "markdown",
      "metadata": {
        "id": "9S82oPjFRTW3"
      },
      "source": [
        "#Task 1\n",
        "Prove and implement the remaining 6 matrix multiplication properties. You may create your own matrices in which their shapes should not be lower than $(3,3)$. In your methodology, create individual flowcharts for each property and discuss the property you would then present your proofs or validity of your implementation in the results section by comparing your result to present functions from NumPy.\n",
        "\n",
        "\n"
      ]
    },
    {
      "cell_type": "code",
      "metadata": {
        "id": "unFcLDU6Zy8U"
      },
      "source": [
        "J = np.array([\n",
        "          [1,2,3],\n",
        "          [5,6,7],\n",
        "          [9,1,2]\n",
        "])\n",
        "R = np.array([\n",
        "          [2,4,6],\n",
        "          [1,3,5],\n",
        "          [1,3,2]\n",
        "])\n",
        "\n",
        "G = np.array([\n",
        "          [1,5,6],\n",
        "          [9,7,5],\n",
        "          [8,6,4]\n",
        "])"
      ],
      "execution_count": 47,
      "outputs": []
    },
    {
      "cell_type": "code",
      "metadata": {
        "colab": {
          "base_uri": "https://localhost:8080/"
        },
        "id": "DnQMAyLJbvoR",
        "outputId": "e730787b-ee5d-4e7b-c5bb-3ac8d482b6ac"
      },
      "source": [
        "G.shape"
      ],
      "execution_count": 57,
      "outputs": [
        {
          "output_type": "execute_result",
          "data": {
            "text/plain": [
              "(3, 3)"
            ]
          },
          "metadata": {},
          "execution_count": 57
        }
      ]
    },
    {
      "cell_type": "code",
      "metadata": {
        "colab": {
          "base_uri": "https://localhost:8080/"
        },
        "id": "On3m5YJsY_VV",
        "outputId": "4891ac42-0f54-4c97-a7bc-4d802848f31a"
      },
      "source": [
        "J1 = np.dot(J,R)\n",
        "J1"
      ],
      "execution_count": 49,
      "outputs": [
        {
          "output_type": "execute_result",
          "data": {
            "text/plain": [
              "array([[ 7, 19, 22],\n",
              "       [23, 59, 74],\n",
              "       [21, 45, 63]])"
            ]
          },
          "metadata": {},
          "execution_count": 49
        }
      ]
    },
    {
      "cell_type": "code",
      "metadata": {
        "colab": {
          "base_uri": "https://localhost:8080/"
        },
        "id": "khia74QZbO8X",
        "outputId": "85646a3c-a235-4bf4-db03-e104d922eccd"
      },
      "source": [
        "np.array_equiv(R,G)"
      ],
      "execution_count": 50,
      "outputs": [
        {
          "output_type": "execute_result",
          "data": {
            "text/plain": [
              "False"
            ]
          },
          "metadata": {},
          "execution_count": 50
        }
      ]
    },
    {
      "cell_type": "code",
      "metadata": {
        "colab": {
          "base_uri": "https://localhost:8080/"
        },
        "id": "DUAXQMR1bWbe",
        "outputId": "3104f5a4-cae1-4da1-a635-c0dbe1a0c761"
      },
      "source": [
        "A = J @ G\n",
        "A"
      ],
      "execution_count": 52,
      "outputs": [
        {
          "output_type": "execute_result",
          "data": {
            "text/plain": [
              "array([[ 43,  37,  28],\n",
              "       [115, 109,  88],\n",
              "       [ 34,  64,  67]])"
            ]
          },
          "metadata": {},
          "execution_count": 52
        }
      ]
    },
    {
      "cell_type": "code",
      "metadata": {
        "colab": {
          "base_uri": "https://localhost:8080/"
        },
        "id": "bdNcnPZ9bhYL",
        "outputId": "ae4188ca-0b81-4359-c27c-b6a85449b309"
      },
      "source": [
        "B = J @ (R + G)\n",
        "B"
      ],
      "execution_count": 54,
      "outputs": [
        {
          "output_type": "execute_result",
          "data": {
            "text/plain": [
              "array([[ 50,  56,  50],\n",
              "       [138, 168, 162],\n",
              "       [ 55, 109, 130]])"
            ]
          },
          "metadata": {},
          "execution_count": 54
        }
      ]
    },
    {
      "cell_type": "code",
      "metadata": {
        "colab": {
          "base_uri": "https://localhost:8080/"
        },
        "id": "Wp28rvfTbpKE",
        "outputId": "155e09a3-493b-49ac-e882-211ad3928363"
      },
      "source": [
        "C = R @ (G @ J)\n",
        "C"
      ],
      "execution_count": 56,
      "outputs": [
        {
          "output_type": "execute_result",
          "data": {
            "text/plain": [
              "array([[960, 672, 888],\n",
              "       [717, 513, 678],\n",
              "       [495, 345, 456]])"
            ]
          },
          "metadata": {},
          "execution_count": 56
        }
      ]
    },
    {
      "cell_type": "markdown",
      "metadata": {
        "id": "VgaMTyXdnz9M"
      },
      "source": [
        "## Conclusion \n",
        "In conclusion, the objectives of the lab activity were achieved. The students were able to gain knowledge on performing different operations on matrices. This was achieved by practicing the different operations or codes on different kinds of matrices. Also it is important to consider the different characteristics of the matrices before operating on it. Sometimes, the code will have an error because the matrices are not compatible. \n"
      ]
    }
  ]
}